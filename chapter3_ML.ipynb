{
  "nbformat": 4,
  "nbformat_minor": 0,
  "metadata": {
    "colab": {
      "provenance": [],
      "collapsed_sections": [],
      "authorship_tag": "ABX9TyOUwfgEjuqsyE+QfbMdtv0V",
      "include_colab_link": true
    },
    "kernelspec": {
      "name": "python3",
      "display_name": "Python 3"
    },
    "language_info": {
      "name": "python"
    }
  },
  "cells": [
    {
      "cell_type": "markdown",
      "metadata": {
        "id": "view-in-github",
        "colab_type": "text"
      },
      "source": [
        "<a href=\"https://colab.research.google.com/github/kimsunlim/TIL/blob/master/chapter3_ML.ipynb\" target=\"_parent\"><img src=\"https://colab.research.google.com/assets/colab-badge.svg\" alt=\"Open In Colab\"/></a>"
      ]
    },
    {
      "cell_type": "markdown",
      "source": [
        "### 1.k최근접 이웃 회귀"
      ],
      "metadata": {
        "id": "1ESbA175g4Ri"
      }
    },
    {
      "cell_type": "markdown",
      "source": [
        "1) 데이터 준비 \n",
        "- 넘파이 배열형태로"
      ],
      "metadata": {
        "id": "t1n419echmwD"
      }
    },
    {
      "cell_type": "code",
      "execution_count": 1,
      "metadata": {
        "id": "vJZD6nCdgfcc"
      },
      "outputs": [],
      "source": [
        "import numpy as np \n",
        "perch_length = np.array([8.4, 13.7, 15.0, 16.2, 17.4, 18.0, 18.7, 19.0, 19.6, 20.0, 21.0,\n",
        "       21.0, 21.0, 21.3, 22.0, 22.0, 22.0, 22.0, 22.0, 22.5, 22.5, 22.7,\n",
        "       23.0, 23.5, 24.0, 24.0, 24.6, 25.0, 25.6, 26.5, 27.3, 27.5, 27.5,\n",
        "       27.5, 28.0, 28.7, 30.0, 32.8, 34.5, 35.0, 36.5, 36.0, 37.0, 37.0,\n",
        "       39.0, 39.0, 39.0, 40.0, 40.0, 40.0, 40.0, 42.0, 43.0, 43.0, 43.5,\n",
        "       44.0])\n",
        "perch_weight = np.array([5.9, 32.0, 40.0, 51.5, 70.0, 100.0, 78.0, 80.0, 85.0, 85.0, 110.0,\n",
        "       115.0, 125.0, 130.0, 120.0, 120.0, 130.0, 135.0, 110.0, 130.0,\n",
        "       150.0, 145.0, 150.0, 170.0, 225.0, 145.0, 188.0, 180.0, 197.0,\n",
        "       218.0, 300.0, 260.0, 265.0, 250.0, 250.0, 300.0, 320.0, 514.0,\n",
        "       556.0, 840.0, 685.0, 700.0, 700.0, 690.0, 900.0, 650.0, 820.0,\n",
        "       850.0, 900.0, 1015.0, 820.0, 1100.0, 1000.0, 1100.0, 1000.0,\n",
        "       1000.0])"
      ]
    },
    {
      "cell_type": "code",
      "source": [
        "print(perch_length.shape)"
      ],
      "metadata": {
        "colab": {
          "base_uri": "https://localhost:8080/"
        },
        "id": "zXln2ircg8g-",
        "outputId": "b2718805-1023-4cfb-c93e-a68dc14327b0"
      },
      "execution_count": 2,
      "outputs": [
        {
          "output_type": "stream",
          "name": "stdout",
          "text": [
            "(56,)\n"
          ]
        }
      ]
    },
    {
      "cell_type": "code",
      "source": [
        "import matplotlib.pyplot as plt\n",
        "plt.scatter(perch_length,perch_weight)\n",
        "plt.xlabel('length')\n",
        "plt.ylabel('weight')\n",
        "plt.show()"
      ],
      "metadata": {
        "colab": {
          "base_uri": "https://localhost:8080/",
          "height": 279
        },
        "id": "P8f2Ka1biCEW",
        "outputId": "5ecaa213-308e-41a8-9579-39316e96a838"
      },
      "execution_count": 3,
      "outputs": [
        {
          "output_type": "display_data",
          "data": {
            "text/plain": [
              "<Figure size 432x288 with 1 Axes>"
            ],
            "image/png": "[encoded data removed]"
          },
          "metadata": {
            "needs_background": "light"
          }
        }
      ]
    },
    {
      "cell_type": "markdown",
      "source": [
        "2) 데이터셋 분리"
      ],
      "metadata": {
        "id": "TRGi421gij6K"
      }
    },
    {
      "cell_type": "code",
      "source": [
        "from sklearn.model_selection import train_test_split\n",
        "train_input, test_input, train_target, test_target= train_test_split(perch_length,perch_weight, random_state=42)"
      ],
      "metadata": {
        "id": "Z31x-XCpiagf"
      },
      "execution_count": 4,
      "outputs": []
    },
    {
      "cell_type": "markdown",
      "source": [
        "- 훈련세트는 2차원 배열이어야함\n",
        "- 1차원 배열을 2차원으로 만들어줘야함> reshape 사용"
      ],
      "metadata": {
        "id": "f_rU_UCojQIC"
      }
    },
    {
      "cell_type": "code",
      "source": [
        "train_input= train_input.reshape(-1,1)\n",
        "test_input= test_input.reshape(-1,1)\n",
        "print(train_input.shape)\n"
      ],
      "metadata": {
        "colab": {
          "base_uri": "https://localhost:8080/"
        },
        "id": "hvWjuNpYi8SU",
        "outputId": "cb5427f9-b27d-4961-9460-96183aedd2af"
      },
      "execution_count": 5,
      "outputs": [
        {
          "output_type": "stream",
          "name": "stdout",
          "text": [
            "(42, 1)\n"
          ]
        }
      ]
    },
    {
      "cell_type": "markdown",
      "source": [
        "3) k최근접이웃 회귀 모델 훈련"
      ],
      "metadata": {
        "id": "RXsxPyMnpPH1"
      }
    },
    {
      "cell_type": "code",
      "source": [
        "from sklearn.neighbors import KNeighborsRegressor"
      ],
      "metadata": {
        "id": "a03_0Valjelf"
      },
      "execution_count": 6,
      "outputs": []
    },
    {
      "cell_type": "code",
      "source": [
        "knr= KNeighborsRegressor()\n",
        "knr.fit(train_input, train_target)\n",
        "knr.score(test_input, test_target)"
      ],
      "metadata": {
        "colab": {
          "base_uri": "https://localhost:8080/"
        },
        "id": "7apbdwP8ptSH",
        "outputId": "b288f2f8-ae25-4afc-8c47-039ac2f1cbca"
      },
      "execution_count": 7,
      "outputs": [
        {
          "output_type": "execute_result",
          "data": {
            "text/plain": [
              "0.992809406101064"
            ]
          },
          "metadata": {},
          "execution_count": 7
        }
      ]
    },
    {
      "cell_type": "markdown",
      "source": [
        "- 회귀에서는 정확한 숫자를 맞힌다는 것은 불가능, 모두 임의의 수치이기에\n",
        "-결정계수로 평가 \n",
        "- 타깃과 예측한 값 사이의 차이를 구하는 것 "
      ],
      "metadata": {
        "id": "oXtR4BnVqT7d"
      }
    },
    {
      "cell_type": "code",
      "source": [
        "from sklearn.metrics import mean_absolute_error\n",
        "test_pred = knr.predict(test_input)\n",
        "mae=mean_absolute_error(test_target, test_pred)\n",
        "print(mae)"
      ],
      "metadata": {
        "colab": {
          "base_uri": "https://localhost:8080/"
        },
        "id": "RJci2dwxqB9O",
        "outputId": "a74e1e8f-f7af-41d0-fa34-f4543eb92413"
      },
      "execution_count": 8,
      "outputs": [
        {
          "output_type": "stream",
          "name": "stdout",
          "text": [
            "19.157142857142862\n"
          ]
        }
      ]
    },
    {
      "cell_type": "code",
      "source": [
        "print(knr.score(train_input, train_target))"
      ],
      "metadata": {
        "colab": {
          "base_uri": "https://localhost:8080/"
        },
        "id": "nzaG2WVXq4Re",
        "outputId": "64d5f453-aa87-4f57-818e-d50365904aa7"
      },
      "execution_count": 9,
      "outputs": [
        {
          "output_type": "stream",
          "name": "stdout",
          "text": [
            "0.9698823289099254\n"
          ]
        }
      ]
    },
    {
      "cell_type": "markdown",
      "source": [
        "- 훈련데이터가 테스트 데이터 보다 값이 높은경우 '과대적합'\n",
        "- 반대의 경우는 과소 적합\n",
        "- 이웃의 개수를 조정해서 해결 "
      ],
      "metadata": {
        "id": "514OICHcrmhZ"
      }
    },
    {
      "cell_type": "code",
      "source": [
        "knr.n_neighbors =3 \n",
        "knr.fit(train_input,train_target)\n",
        "print(knr.score(train_input,train_target))"
      ],
      "metadata": {
        "colab": {
          "base_uri": "https://localhost:8080/"
        },
        "id": "UuBzymEUrjkH",
        "outputId": "f552c4f2-ae03-4ee4-9d46-3f7dd54eac90"
      },
      "execution_count": 10,
      "outputs": [
        {
          "output_type": "stream",
          "name": "stdout",
          "text": [
            "0.9804899950518966\n"
          ]
        }
      ]
    },
    {
      "cell_type": "markdown",
      "source": [
        "### 2.선형회귀\n"
      ],
      "metadata": {
        "id": "vaxquFq6Hs7L"
      }
    },
    {
      "cell_type": "markdown",
      "source": [
        "- 농어데이터 준비"
      ],
      "metadata": {
        "id": "5PxFrhnCICC1"
      }
    },
    {
      "cell_type": "code",
      "source": [
        "import numpy as np \n",
        "perch_length = np.array([8.4, 13.7, 15.0, 16.2, 17.4, 18.0, 18.7, 19.0, 19.6, 20.0, 21.0,\n",
        "       21.0, 21.0, 21.3, 22.0, 22.0, 22.0, 22.0, 22.0, 22.5, 22.5, 22.7,\n",
        "       23.0, 23.5, 24.0, 24.0, 24.6, 25.0, 25.6, 26.5, 27.3, 27.5, 27.5,\n",
        "       27.5, 28.0, 28.7, 30.0, 32.8, 34.5, 35.0, 36.5, 36.0, 37.0, 37.0,\n",
        "       39.0, 39.0, 39.0, 40.0, 40.0, 40.0, 40.0, 42.0, 43.0, 43.0, 43.5,\n",
        "       44.0])\n",
        "perch_weight = np.array([5.9, 32.0, 40.0, 51.5, 70.0, 100.0, 78.0, 80.0, 85.0, 85.0, 110.0,\n",
        "       115.0, 125.0, 130.0, 120.0, 120.0, 130.0, 135.0, 110.0, 130.0,\n",
        "       150.0, 145.0, 150.0, 170.0, 225.0, 145.0, 188.0, 180.0, 197.0,\n",
        "       218.0, 300.0, 260.0, 265.0, 250.0, 250.0, 300.0, 320.0, 514.0,\n",
        "       556.0, 840.0, 685.0, 700.0, 700.0, 690.0, 900.0, 650.0, 820.0,\n",
        "       850.0, 900.0, 1015.0, 820.0, 1100.0, 1000.0, 1100.0, 1000.0,\n",
        "       1000.0])"
      ],
      "metadata": {
        "id": "5ZBFAQ5Br7cu"
      },
      "execution_count": null,
      "outputs": []
    },
    {
      "cell_type": "markdown",
      "source": [
        "- 데이터셋 분리 "
      ],
      "metadata": {
        "id": "LzAYy9l1IFeF"
      }
    },
    {
      "cell_type": "code",
      "source": [
        "from sklearn.model_selection import train_test_split\n",
        "\n",
        "train_input, test_input, train_target, test_target= train_test_split(perch_length,perch_weight, random_state=42)"
      ],
      "metadata": {
        "id": "cUgPgAKXH_vG"
      },
      "execution_count": null,
      "outputs": []
    },
    {
      "cell_type": "markdown",
      "source": [
        "- 훈련, 테스트셋 2차원 배열로 변환"
      ],
      "metadata": {
        "id": "1EChnynqIg5Y"
      }
    },
    {
      "cell_type": "code",
      "source": [
        "train_input=train_input.reshape(-1,1)\n",
        "test_input=test_input.reshape(-1,1)"
      ],
      "metadata": {
        "id": "UbXctw1nIf2E"
      },
      "execution_count": null,
      "outputs": []
    },
    {
      "cell_type": "markdown",
      "source": [
        "*k-최근접 이웃의 한계*\n"
      ],
      "metadata": {
        "id": "XCU-8l6EI7v-"
      }
    },
    {
      "cell_type": "code",
      "source": [
        "from sklearn.neighbors import KNeighborsRegressor\n",
        "knr= KNeighborsRegressor(n_neighbors=3)\n",
        "\n",
        "knr.fit(train_input, train_target)"
      ],
      "metadata": {
        "colab": {
          "base_uri": "https://localhost:8080/"
        },
        "id": "AksENQc2Iv-0",
        "outputId": "44478145-6b67-4659-f1e8-154e06754b7a"
      },
      "execution_count": null,
      "outputs": [
        {
          "output_type": "execute_result",
          "data": {
            "text/plain": [
              "KNeighborsRegressor(n_neighbors=3)"
            ]
          },
          "metadata": {},
          "execution_count": 11
        }
      ]
    },
    {
      "cell_type": "code",
      "source": [
        "print(knr.predict([[50]]))"
      ],
      "metadata": {
        "colab": {
          "base_uri": "https://localhost:8080/"
        },
        "id": "VJqUcUNoIzHE",
        "outputId": "22692758-e078-44cc-ca8e-86199bdd4eaa"
      },
      "execution_count": null,
      "outputs": [
        {
          "output_type": "stream",
          "name": "stdout",
          "text": [
            "[1033.33333333]\n"
          ]
        }
      ]
    },
    {
      "cell_type": "markdown",
      "source": [
        "- k최근접이웃회귀>농어 50cm 무게 1033g정도로 예측함\n",
        "- 실제 농어 무게는 더 많이 나감. 오류발생 \n",
        "- 산점도로도 확인해보기 "
      ],
      "metadata": {
        "id": "S8okxFRXJtb6"
      }
    },
    {
      "cell_type": "code",
      "source": [
        "import matplotlib.pyplot as plt "
      ],
      "metadata": {
        "id": "ZNriptMPJlMc"
      },
      "execution_count": null,
      "outputs": []
    },
    {
      "cell_type": "code",
      "source": [
        "distances,indexs= knr.kneighbors([[50]])\n",
        "plt.scatter(train_input,train_target)\n",
        "plt.scatter(train_input[indexs],train_target[indexs],marker='D')\n",
        "\n",
        "plt.scatter(50,1033,marker='^')\n",
        "plt.xlabel('length')\n",
        "plt.ylabel('weight')\n",
        "plt.show()\n"
      ],
      "metadata": {
        "colab": {
          "base_uri": "https://localhost:8080/",
          "height": 279
        },
        "id": "35kTO10mZ6jn",
        "outputId": "e12342a7-1fd9-4dec-e0c5-da9f5aaae3e4"
      },
      "execution_count": null,
      "outputs": [
        {
          "output_type": "display_data",
          "data": {
            "text/plain": [
              "<Figure size 432x288 with 1 Axes>"
            ],
            "image/png": "[encoded data removed]"
          },
          "metadata": {
            "needs_background": "light"
          }
        }
      ]
    },
    {
      "cell_type": "markdown",
      "source": [
        "- 길이가 커질수록 농어 무게가 증가하는 경향이 있음 \n",
        "- 가장 가까운 농어 무게들의 평균을 구함\n",
        "- 그래서 훈련세트 범위를 벗어나면 엉뚱한 값을 예측 할 수 있음"
      ],
      "metadata": {
        "id": "-W_5Qr_qa1se"
      }
    },
    {
      "cell_type": "markdown",
      "source": [
        "### 선형회귀"
      ],
      "metadata": {
        "id": "rgdKNZVUbV3r"
      }
    },
    {
      "cell_type": "code",
      "source": [
        "from sklearn.linear_model import LinearRegression\n",
        "lr=LinearRegression()\n",
        "\n",
        "#모델 훈련 \n",
        "lr.fit(train_input, train_target)\n",
        "\n",
        "#50cm농어 예측\n",
        "print(lr.predict([[50]]))"
      ],
      "metadata": {
        "colab": {
          "base_uri": "https://localhost:8080/"
        },
        "id": "7yhZgw7SbZOV",
        "outputId": "cb390651-9e93-4d98-9b05-e21c7280c3f4"
      },
      "execution_count": 11,
      "outputs": [
        {
          "output_type": "stream",
          "name": "stdout",
          "text": [
            "[1241.83860323]\n"
          ]
        }
      ]
    },
    {
      "cell_type": "code",
      "source": [
        "print(lr.score(train_input, train_target))\n",
        "print(lr.score(test_input, test_target))\n"
      ],
      "metadata": {
        "colab": {
          "base_uri": "https://localhost:8080/"
        },
        "id": "C05eQClxcC3L",
        "outputId": "8fab2d50-1adc-442b-ebea-cf9175d092ea"
      },
      "execution_count": 13,
      "outputs": [
        {
          "output_type": "stream",
          "name": "stdout",
          "text": [
            "0.939846333997604\n",
            "0.8247503123313558\n"
          ]
        }
      ]
    },
    {
      "cell_type": "markdown",
      "source": [
        "#### 다항회귀\n"
      ],
      "metadata": {
        "id": "eI__iSQ0d9Bk"
      }
    },
    {
      "cell_type": "code",
      "source": [
        "train_poly = np.column_stack((train_input**2, train_input))\n",
        "test_poly = np.column_stack((test_input**2, test_input))"
      ],
      "metadata": {
        "id": "xweS5nrCcj5k"
      },
      "execution_count": 14,
      "outputs": []
    },
    {
      "cell_type": "code",
      "source": [
        "print(train_poly.shape, test_poly.shape)"
      ],
      "metadata": {
        "colab": {
          "base_uri": "https://localhost:8080/"
        },
        "id": "d6g4scTDd-ZN",
        "outputId": "59dccd68-a1d2-4abf-e204-ac889a539c30"
      },
      "execution_count": 15,
      "outputs": [
        {
          "output_type": "stream",
          "name": "stdout",
          "text": [
            "(42, 2) (14, 2)\n"
          ]
        }
      ]
    },
    {
      "cell_type": "code",
      "source": [
        "lr=LinearRegression()\n",
        "\n",
        "#모델 훈련 \n",
        "lr.fit(train_poly, train_target)\n",
        "\n",
        "#50cm농어 예측\n",
        "print(lr.predict([[50**2,50]]))"
      ],
      "metadata": {
        "colab": {
          "base_uri": "https://localhost:8080/"
        },
        "id": "o0dylB8xeXN5",
        "outputId": "8ad95aa3-7402-48e5-a0c7-8ec9c93f7e67"
      },
      "execution_count": 16,
      "outputs": [
        {
          "output_type": "stream",
          "name": "stdout",
          "text": [
            "[1573.98423528]\n"
          ]
        }
      ]
    },
    {
      "cell_type": "code",
      "source": [
        "print(lr.score(train_poly, train_target))\n",
        "print(lr.score(test_poly, test_target))"
      ],
      "metadata": {
        "colab": {
          "base_uri": "https://localhost:8080/"
        },
        "id": "DidSGoAUe2nj",
        "outputId": "131d996a-491e-4419-fb37-7d106d6a0abc"
      },
      "execution_count": 17,
      "outputs": [
        {
          "output_type": "stream",
          "name": "stdout",
          "text": [
            "0.9706807451768623\n",
            "0.9775935108325122\n"
          ]
        }
      ]
    },
    {
      "cell_type": "markdown",
      "source": [
        "### 3.특성공학과 규제"
      ],
      "metadata": {
        "id": "3R8k5WVql_At"
      }
    },
    {
      "cell_type": "markdown",
      "source": [
        "#### 다중회귀\n",
        "- 여러 개의 특성을 활용한 선형 휘귀를 '다중 회귀'라고 함!\n",
        "- 농어 데이터의 높이와 두께 데이터도 추가해서 다중 회귀 사용\n",
        "- 특성끼리 곱해서 새로운 특성을 만드는것 == 특성 공학이라고 함"
      ],
      "metadata": {
        "id": "K_1rEBSPmTUV"
      }
    },
    {
      "cell_type": "markdown",
      "source": [
        "*pandas활용하면 데이터프레임을 가져올수 있다."
      ],
      "metadata": {
        "id": "mxMNiyjfnBqF"
      }
    },
    {
      "cell_type": "code",
      "source": [
        "import pandas as pd \n",
        "df=pd.read_csv('http://bit.ly/perch_csv_data')\n",
        "perch_full=df.to_numpy()  #데이터 불러온 다음 넘파이 배열로 변환 \n",
        "print(perch_full) #3개의 특성이 들어간 데이터 "
      ],
      "metadata": {
        "colab": {
          "base_uri": "https://localhost:8080/"
        },
        "id": "7-S1QjXxe9IO",
        "outputId": "aec6bc90-19a6-4c81-c1ea-59fc3fed5b74"
      },
      "execution_count": 19,
      "outputs": [
        {
          "output_type": "stream",
          "name": "stdout",
          "text": [
            "[[ 8.4   2.11  1.41]\n",
            " [13.7   3.53  2.  ]\n",
            " [15.    3.82  2.43]\n",
            " [16.2   4.59  2.63]\n",
            " [17.4   4.59  2.94]\n",
            " [18.    5.22  3.32]\n",
            " [18.7   5.2   3.12]\n",
            " [19.    5.64  3.05]\n",
            " [19.6   5.14  3.04]\n",
            " [20.    5.08  2.77]\n",
            " [21.    5.69  3.56]\n",
            " [21.    5.92  3.31]\n",
            " [21.    5.69  3.67]\n",
            " [21.3   6.38  3.53]\n",
            " [22.    6.11  3.41]\n",
            " [22.    5.64  3.52]\n",
            " [22.    6.11  3.52]\n",
            " [22.    5.88  3.52]\n",
            " [22.    5.52  4.  ]\n",
            " [22.5   5.86  3.62]\n",
            " [22.5   6.79  3.62]\n",
            " [22.7   5.95  3.63]\n",
            " [23.    5.22  3.63]\n",
            " [23.5   6.28  3.72]\n",
            " [24.    7.29  3.72]\n",
            " [24.    6.38  3.82]\n",
            " [24.6   6.73  4.17]\n",
            " [25.    6.44  3.68]\n",
            " [25.6   6.56  4.24]\n",
            " [26.5   7.17  4.14]\n",
            " [27.3   8.32  5.14]\n",
            " [27.5   7.17  4.34]\n",
            " [27.5   7.05  4.34]\n",
            " [27.5   7.28  4.57]\n",
            " [28.    7.82  4.2 ]\n",
            " [28.7   7.59  4.64]\n",
            " [30.    7.62  4.77]\n",
            " [32.8  10.03  6.02]\n",
            " [34.5  10.26  6.39]\n",
            " [35.   11.49  7.8 ]\n",
            " [36.5  10.88  6.86]\n",
            " [36.   10.61  6.74]\n",
            " [37.   10.84  6.26]\n",
            " [37.   10.57  6.37]\n",
            " [39.   11.14  7.49]\n",
            " [39.   11.14  6.  ]\n",
            " [39.   12.43  7.35]\n",
            " [40.   11.93  7.11]\n",
            " [40.   11.73  7.22]\n",
            " [40.   12.38  7.46]\n",
            " [40.   11.14  6.63]\n",
            " [42.   12.8   6.87]\n",
            " [43.   11.93  7.28]\n",
            " [43.   12.51  7.42]\n",
            " [43.5  12.6   8.14]\n",
            " [44.   12.49  7.6 ]]\n"
          ]
        }
      ]
    },
    {
      "cell_type": "code",
      "source": [
        "## 타깃인 무게 데이터 \n",
        "import numpy as np\n",
        "\n",
        "perch_weight = np.array([5.9, 32.0, 40.0, 51.5, 70.0, 100.0, 78.0, 80.0, 85.0, 85.0, 110.0,\n",
        "       115.0, 125.0, 130.0, 120.0, 120.0, 130.0, 135.0, 110.0, 130.0,\n",
        "       150.0, 145.0, 150.0, 170.0, 225.0, 145.0, 188.0, 180.0, 197.0,\n",
        "       218.0, 300.0, 260.0, 265.0, 250.0, 250.0, 300.0, 320.0, 514.0,\n",
        "       556.0, 840.0, 685.0, 700.0, 700.0, 690.0, 900.0, 650.0, 820.0,\n",
        "       850.0, 900.0, 1015.0, 820.0, 1100.0, 1000.0, 1100.0, 1000.0,\n",
        "       1000.0])\n"
      ],
      "metadata": {
        "id": "9gSjd-7-ngQ6"
      },
      "execution_count": 20,
      "outputs": []
    },
    {
      "cell_type": "code",
      "source": [
        "# perch_full 와 perch_weight데이터셋 분리 \n",
        "\n",
        "from sklearn.model_selection import train_test_split\n",
        "\n",
        "train_input, test_input, train_target, test_target = train_test_split(perch_full, perch_weight, random_state=42)"
      ],
      "metadata": {
        "id": "V73BF9cEn5Ot"
      },
      "execution_count": 22,
      "outputs": []
    },
    {
      "cell_type": "markdown",
      "source": [
        "#### 사이킷런은 특성을 만들거나 전처리 하기 위해 다양한 클래스를 제공한다 >>변환기"
      ],
      "metadata": {
        "id": "VrIdDZu9opQi"
      }
    },
    {
      "cell_type": "code",
      "source": [
        "from sklearn.preprocessing import PolynomialFeatures"
      ],
      "metadata": {
        "id": "uBuyCpddoWZl"
      },
      "execution_count": 23,
      "outputs": []
    },
    {
      "cell_type": "code",
      "source": [
        "# 샘플\n",
        "poly=PolynomialFeatures(include_bias =False)\n",
        "poly.fit([[2,3]])\n",
        "print(poly.transform([[2,3]]))\n",
        "#2,3에서 제곱과 특성끼리 곱한 항이 추가됨"
      ],
      "metadata": {
        "colab": {
          "base_uri": "https://localhost:8080/"
        },
        "id": "gCObMiczo3Bt",
        "outputId": "79ef6f8b-9e9b-4b4c-b828-cd5fcaf522ff"
      },
      "execution_count": 25,
      "outputs": [
        {
          "output_type": "stream",
          "name": "stdout",
          "text": [
            "[[2. 3. 4. 6. 9.]]\n"
          ]
        }
      ]
    },
    {
      "cell_type": "code",
      "source": [
        "## 데이터에 적용 \n",
        "poly=PolynomialFeatures(include_bias =False)\n",
        "poly.fit(train_input)\n",
        "train_poly= poly.transform(train_input)\n",
        "print(train_poly.shape)\n",
        "#9개의 특성이 생김"
      ],
      "metadata": {
        "colab": {
          "base_uri": "https://localhost:8080/"
        },
        "id": "-g7IlGXWpi4p",
        "outputId": "a8193533-9865-428b-8482-816e65104736"
      },
      "execution_count": 26,
      "outputs": [
        {
          "output_type": "stream",
          "name": "stdout",
          "text": [
            "(42, 9)\n"
          ]
        }
      ]
    },
    {
      "cell_type": "code",
      "source": [
        "poly.get_feature_names_out()  #어떤조합으로 특성이 생겼는지 확인 가능 "
      ],
      "metadata": {
        "colab": {
          "base_uri": "https://localhost:8080/"
        },
        "id": "CrfxT0yEqJ3-",
        "outputId": "c7deb867-267a-4dcd-999f-8f63221f4b3e"
      },
      "execution_count": 27,
      "outputs": [
        {
          "output_type": "execute_result",
          "data": {
            "text/plain": [
              "array(['x0', 'x1', 'x2', 'x0^2', 'x0 x1', 'x0 x2', 'x1^2', 'x1 x2',\n",
              "       'x2^2'], dtype=object)"
            ]
          },
          "metadata": {},
          "execution_count": 27
        }
      ]
    },
    {
      "cell_type": "code",
      "source": [
        "test_poly= poly.transform(test_input)"
      ],
      "metadata": {
        "id": "xg-Nfol_qYFg"
      },
      "execution_count": 28,
      "outputs": []
    },
    {
      "cell_type": "markdown",
      "source": [
        "#### 다중 회귀 모델 훈련 "
      ],
      "metadata": {
        "id": "DhhWWhCWqkv3"
      }
    },
    {
      "cell_type": "code",
      "source": [
        "from sklearn.linear_model import LinearRegression\n",
        "lr=LinearRegression()\n",
        "lr.fit(train_poly, train_target)\n",
        "print(lr.score(train_poly, train_target))\n",
        "print(lr.score(test_poly, test_target))\n",
        "#정확도가 높아짐 "
      ],
      "metadata": {
        "colab": {
          "base_uri": "https://localhost:8080/"
        },
        "id": "ZjcqUch5qh9V",
        "outputId": "109b6966-9ed0-49df-9c99-9ba782f0df1d"
      },
      "execution_count": 32,
      "outputs": [
        {
          "output_type": "stream",
          "name": "stdout",
          "text": [
            "0.9903183436982124\n",
            "0.9714559911594134\n"
          ]
        }
      ]
    },
    {
      "cell_type": "markdown",
      "source": [
        "- 특성을 늘리면 선형 모델은 강력해진다 그런데, 과하게 복잡해지면 과대적합이 된다.\n",
        "-'규제' 훈련세트를 너무 과도하게 학습하지 못하도록 하는것 >> 기울기를 줄임 "
      ],
      "metadata": {
        "id": "QVSiA4QbrdRf"
      }
    },
    {
      "cell_type": "code",
      "source": [
        "##정규화 \n",
        "from sklearn.preprocessing import StandardScaler\n",
        "ss= StandardScaler()\n",
        "ss.fit(train_poly)\n",
        "train_scaled = ss.transform(train_poly)\n",
        "test_scaled= ss.transform(test_poly)"
      ],
      "metadata": {
        "id": "YhbGQP8rq3vE"
      },
      "execution_count": 33,
      "outputs": []
    },
    {
      "cell_type": "markdown",
      "source": [
        "#### 릿지: 선형회귀 모델에 규제를 추가, 계수를 제곱한것을 기준 \n",
        "####  라쏘: 절댓값을 기준으로 규제 적용"
      ],
      "metadata": {
        "id": "srRQq-2NsmU4"
      }
    },
    {
      "cell_type": "code",
      "source": [
        "from sklearn.linear_model import Ridge\n",
        "ridge=Ridge(alpha=0.1) #규제 조정 가능 \n",
        "ridge.fit(train_scaled, train_target)\n",
        "print(ridge.score(train_scaled, train_target))\n",
        "print(ridge.score(test_scaled, test_target))"
      ],
      "metadata": {
        "colab": {
          "base_uri": "https://localhost:8080/"
        },
        "id": "02gyooLnsYUR",
        "outputId": "e4acf49f-56b7-4bb0-c44d-368418012649"
      },
      "execution_count": 36,
      "outputs": [
        {
          "output_type": "stream",
          "name": "stdout",
          "text": [
            "0.9889354346720892\n",
            "0.9856564835209134\n"
          ]
        }
      ]
    },
    {
      "cell_type": "code",
      "source": [
        "from sklearn.linear_model import Lasso\n",
        "lasso= Lasso() #규제 조정 가능 \n",
        "lasso.fit(train_scaled, train_target)\n",
        "print(lasso.score(train_scaled, train_target))\n",
        "print(lasso.score(test_scaled, test_target))"
      ],
      "metadata": {
        "colab": {
          "base_uri": "https://localhost:8080/"
        },
        "id": "JLfu_DGPtMgg",
        "outputId": "974cef10-79e9-4edd-f6fc-dc8903b0c536"
      },
      "execution_count": 40,
      "outputs": [
        {
          "output_type": "stream",
          "name": "stdout",
          "text": [
            "0.986591255464559\n",
            "0.9846056618190413\n"
          ]
        }
      ]
    },
    {
      "cell_type": "code",
      "source": [],
      "metadata": {
        "id": "Kn7KbzPjuot5"
      },
      "execution_count": null,
      "outputs": []
    }
  ]
}